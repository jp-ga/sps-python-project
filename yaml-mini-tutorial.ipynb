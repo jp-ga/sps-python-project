{
 "cells": [
  {
   "cell_type": "markdown",
   "metadata": {},
   "source": [
    "# reading YAML files\n",
    "\n",
    "YAML is a human-readable data serialization language. YAML files can be mapped to Python dictionaries+lists. In the context of this project, it is used to save the file names of the images for a particular beamline scan. In this notebook, we will open a yaml file and access its contents. "
   ]
  },
  {
   "cell_type": "code",
   "execution_count": 1,
   "metadata": {},
   "outputs": [],
   "source": [
    "import yaml # if you don't have it, install it with pip install pyyaml"
   ]
  },
  {
   "cell_type": "code",
   "execution_count": 2,
   "metadata": {},
   "outputs": [],
   "source": [
    "# load yaml file\n",
    "scan = yaml.safe_load(open('test-yaml.yml'))"
   ]
  },
  {
   "cell_type": "code",
   "execution_count": 3,
   "metadata": {},
   "outputs": [
    {
     "data": {
      "text/plain": [
       "[{'AWA:Bira3Ctrl:Ch10': -0.5,\n",
       "  'AWA:Bira4Ctrl:Ch01': 0.0,\n",
       "  'AWAVXI11ICT:Ch4': [6e-10,\n",
       "   5e-10,\n",
       "   5e-10,\n",
       "   5e-10,\n",
       "   5e-10,\n",
       "   6e-10,\n",
       "   5e-10,\n",
       "   6e-10,\n",
       "   5e-10,\n",
       "   5e-10],\n",
       "  'pi:QBCR1:Ch7:EnablePulse': 0,\n",
       "  'save_filename': '/home/awa/awa_data/12-07_6DReconstruction/reconstruction_scan/DYG14_1701987488.h5'},\n",
       " {'AWA:Bira3Ctrl:Ch10': -0.45,\n",
       "  'AWA:Bira4Ctrl:Ch01': 0.0,\n",
       "  'AWAVXI11ICT:Ch4': [6e-10,\n",
       "   5e-10,\n",
       "   5e-10,\n",
       "   6e-10,\n",
       "   5e-10,\n",
       "   5e-10,\n",
       "   5e-10,\n",
       "   5e-10,\n",
       "   6e-10,\n",
       "   6e-10],\n",
       "  'pi:QBCR1:Ch7:EnablePulse': 0,\n",
       "  'save_filename': '/home/awa/awa_data/12-07_6DReconstruction/reconstruction_scan/DYG14_1701987512.h5'},\n",
       " {'AWA:Bira3Ctrl:Ch10': -0.4,\n",
       "  'AWA:Bira4Ctrl:Ch01': 0.0,\n",
       "  'AWAVXI11ICT:Ch4': [5e-10,\n",
       "   5e-10,\n",
       "   6e-10,\n",
       "   5e-10,\n",
       "   5e-10,\n",
       "   5e-10,\n",
       "   5e-10,\n",
       "   5e-10,\n",
       "   6e-10,\n",
       "   5e-10],\n",
       "  'pi:QBCR1:Ch7:EnablePulse': 0,\n",
       "  'save_filename': '/home/awa/awa_data/12-07_6DReconstruction/reconstruction_scan/DYG14_1701987530.h5'},\n",
       " {'AWA:Bira3Ctrl:Ch10': -0.35,\n",
       "  'AWA:Bira4Ctrl:Ch01': 0.0,\n",
       "  'AWAVXI11ICT:Ch4': [5e-10,\n",
       "   6e-10,\n",
       "   5e-10,\n",
       "   6e-10,\n",
       "   6e-10,\n",
       "   5e-10,\n",
       "   6e-10,\n",
       "   5e-10,\n",
       "   6e-10,\n",
       "   5e-10],\n",
       "  'pi:QBCR1:Ch7:EnablePulse': 0,\n",
       "  'save_filename': '/home/awa/awa_data/12-07_6DReconstruction/reconstruction_scan/DYG14_1701987546.h5'},\n",
       " {'AWA:Bira3Ctrl:Ch10': -0.3,\n",
       "  'AWA:Bira4Ctrl:Ch01': 0.0,\n",
       "  'AWAVXI11ICT:Ch4': [6e-10,\n",
       "   5e-10,\n",
       "   5e-10,\n",
       "   5e-10,\n",
       "   5e-10,\n",
       "   6e-10,\n",
       "   6e-10,\n",
       "   5e-10,\n",
       "   6e-10,\n",
       "   5e-10],\n",
       "  'pi:QBCR1:Ch7:EnablePulse': 0,\n",
       "  'save_filename': '/home/awa/awa_data/12-07_6DReconstruction/reconstruction_scan/DYG14_1701987569.h5'},\n",
       " {'AWA:Bira3Ctrl:Ch10': -0.25,\n",
       "  'AWA:Bira4Ctrl:Ch01': 0.0,\n",
       "  'AWAVXI11ICT:Ch4': [6e-10,\n",
       "   6e-10,\n",
       "   5e-10,\n",
       "   5e-10,\n",
       "   5e-10,\n",
       "   6e-10,\n",
       "   5e-10,\n",
       "   5e-10,\n",
       "   5e-10,\n",
       "   5e-10],\n",
       "  'pi:QBCR1:Ch7:EnablePulse': 0,\n",
       "  'save_filename': '/home/awa/awa_data/12-07_6DReconstruction/reconstruction_scan/DYG14_1701987588.h5'},\n",
       " {'AWA:Bira3Ctrl:Ch10': -0.2,\n",
       "  'AWA:Bira4Ctrl:Ch01': 0.0,\n",
       "  'AWAVXI11ICT:Ch4': [5e-10,\n",
       "   6e-10,\n",
       "   5e-10,\n",
       "   5e-10,\n",
       "   5e-10,\n",
       "   5e-10,\n",
       "   6e-10,\n",
       "   6e-10,\n",
       "   5e-10,\n",
       "   6e-10],\n",
       "  'pi:QBCR1:Ch7:EnablePulse': 0,\n",
       "  'save_filename': '/home/awa/awa_data/12-07_6DReconstruction/reconstruction_scan/DYG14_1701987609.h5'},\n",
       " {'AWA:Bira3Ctrl:Ch10': -0.15,\n",
       "  'AWA:Bira4Ctrl:Ch01': 0.0,\n",
       "  'AWAVXI11ICT:Ch4': [6e-10,\n",
       "   6e-10,\n",
       "   5e-10,\n",
       "   6e-10,\n",
       "   6e-10,\n",
       "   6e-10,\n",
       "   6e-10,\n",
       "   6e-10,\n",
       "   6e-10,\n",
       "   5e-10],\n",
       "  'pi:QBCR1:Ch7:EnablePulse': 0,\n",
       "  'save_filename': '/home/awa/awa_data/12-07_6DReconstruction/reconstruction_scan/DYG14_1701987635.h5'},\n",
       " {'AWA:Bira3Ctrl:Ch10': -0.1,\n",
       "  'AWA:Bira4Ctrl:Ch01': 0.0,\n",
       "  'AWAVXI11ICT:Ch4': [5e-10,\n",
       "   6e-10,\n",
       "   6e-10,\n",
       "   6e-10,\n",
       "   6e-10,\n",
       "   6e-10,\n",
       "   5e-10,\n",
       "   6e-10,\n",
       "   5e-10,\n",
       "   5e-10],\n",
       "  'pi:QBCR1:Ch7:EnablePulse': 0,\n",
       "  'save_filename': '/home/awa/awa_data/12-07_6DReconstruction/reconstruction_scan/DYG14_1701987654.h5'},\n",
       " {'AWA:Bira3Ctrl:Ch10': -0.05,\n",
       "  'AWA:Bira4Ctrl:Ch01': 0.0,\n",
       "  'AWAVXI11ICT:Ch4': [6e-10,\n",
       "   6e-10,\n",
       "   5e-10,\n",
       "   6e-10,\n",
       "   5e-10,\n",
       "   5e-10,\n",
       "   6e-10,\n",
       "   5e-10,\n",
       "   5e-10,\n",
       "   5e-10],\n",
       "  'pi:QBCR1:Ch7:EnablePulse': 0,\n",
       "  'save_filename': '/home/awa/awa_data/12-07_6DReconstruction/reconstruction_scan/DYG14_1701987675.h5'},\n",
       " {'AWA:Bira3Ctrl:Ch10': 0.0,\n",
       "  'AWA:Bira4Ctrl:Ch01': 0.0,\n",
       "  'AWAVXI11ICT:Ch4': [6e-10,\n",
       "   5e-10,\n",
       "   5e-10,\n",
       "   6e-10,\n",
       "   6e-10,\n",
       "   6e-10,\n",
       "   5e-10,\n",
       "   6e-10,\n",
       "   6e-10,\n",
       "   5e-10],\n",
       "  'pi:QBCR1:Ch7:EnablePulse': 0,\n",
       "  'save_filename': '/home/awa/awa_data/12-07_6DReconstruction/reconstruction_scan/DYG14_1701987692.h5'},\n",
       " {'AWA:Bira3Ctrl:Ch10': 0.05,\n",
       "  'AWA:Bira4Ctrl:Ch01': 0.0,\n",
       "  'AWAVXI11ICT:Ch4': [6e-10,\n",
       "   6e-10,\n",
       "   5e-10,\n",
       "   5e-10,\n",
       "   5e-10,\n",
       "   5e-10,\n",
       "   5e-10,\n",
       "   6e-10,\n",
       "   5e-10,\n",
       "   5e-10],\n",
       "  'pi:QBCR1:Ch7:EnablePulse': 0,\n",
       "  'save_filename': '/home/awa/awa_data/12-07_6DReconstruction/reconstruction_scan/DYG14_1701987709.h5'},\n",
       " {'AWA:Bira3Ctrl:Ch10': 0.1,\n",
       "  'AWA:Bira4Ctrl:Ch01': 0.0,\n",
       "  'AWAVXI11ICT:Ch4': [5e-10,\n",
       "   5e-10,\n",
       "   6e-10,\n",
       "   5e-10,\n",
       "   6e-10,\n",
       "   6e-10,\n",
       "   6e-10,\n",
       "   5e-10,\n",
       "   6e-10,\n",
       "   5e-10],\n",
       "  'pi:QBCR1:Ch7:EnablePulse': 0,\n",
       "  'save_filename': '/home/awa/awa_data/12-07_6DReconstruction/reconstruction_scan/DYG14_1701987721.h5'},\n",
       " {'AWA:Bira3Ctrl:Ch10': 0.15,\n",
       "  'AWA:Bira4Ctrl:Ch01': 0.0,\n",
       "  'AWAVXI11ICT:Ch4': [5e-10,\n",
       "   6e-10,\n",
       "   5e-10,\n",
       "   5e-10,\n",
       "   5e-10,\n",
       "   5e-10,\n",
       "   5e-10,\n",
       "   6e-10,\n",
       "   6e-10,\n",
       "   5e-10],\n",
       "  'pi:QBCR1:Ch7:EnablePulse': 0,\n",
       "  'save_filename': '/home/awa/awa_data/12-07_6DReconstruction/reconstruction_scan/DYG14_1701987740.h5'},\n",
       " {'AWA:Bira3Ctrl:Ch10': 0.2,\n",
       "  'AWA:Bira4Ctrl:Ch01': 0.0,\n",
       "  'AWAVXI11ICT:Ch4': [6e-10,\n",
       "   6e-10,\n",
       "   6e-10,\n",
       "   5e-10,\n",
       "   5e-10,\n",
       "   5e-10,\n",
       "   6e-10,\n",
       "   6e-10,\n",
       "   5e-10,\n",
       "   5e-10],\n",
       "  'pi:QBCR1:Ch7:EnablePulse': 0,\n",
       "  'save_filename': '/home/awa/awa_data/12-07_6DReconstruction/reconstruction_scan/DYG14_1701987760.h5'},\n",
       " {'AWA:Bira3Ctrl:Ch10': 0.25,\n",
       "  'AWA:Bira4Ctrl:Ch01': 0.0,\n",
       "  'AWAVXI11ICT:Ch4': [6e-10,\n",
       "   5e-10,\n",
       "   6e-10,\n",
       "   6e-10,\n",
       "   5e-10,\n",
       "   6e-10,\n",
       "   6e-10,\n",
       "   5e-10,\n",
       "   5e-10,\n",
       "   6e-10],\n",
       "  'pi:QBCR1:Ch7:EnablePulse': 0,\n",
       "  'save_filename': '/home/awa/awa_data/12-07_6DReconstruction/reconstruction_scan/DYG14_1701987791.h5'},\n",
       " {'AWA:Bira3Ctrl:Ch10': 0.3,\n",
       "  'AWA:Bira4Ctrl:Ch01': 0.0,\n",
       "  'AWAVXI11ICT:Ch4': [6e-10,\n",
       "   5e-10,\n",
       "   5e-10,\n",
       "   6e-10,\n",
       "   5e-10,\n",
       "   6e-10,\n",
       "   5e-10,\n",
       "   6e-10,\n",
       "   6e-10,\n",
       "   5e-10],\n",
       "  'pi:QBCR1:Ch7:EnablePulse': 0,\n",
       "  'save_filename': '/home/awa/awa_data/12-07_6DReconstruction/reconstruction_scan/DYG14_1701987804.h5'},\n",
       " {'AWA:Bira3Ctrl:Ch10': 0.35,\n",
       "  'AWA:Bira4Ctrl:Ch01': 0.0,\n",
       "  'AWAVXI11ICT:Ch4': [5e-10,\n",
       "   6e-10,\n",
       "   5e-10,\n",
       "   6e-10,\n",
       "   5e-10,\n",
       "   5e-10,\n",
       "   5e-10,\n",
       "   6e-10,\n",
       "   5e-10,\n",
       "   6e-10],\n",
       "  'pi:QBCR1:Ch7:EnablePulse': 0,\n",
       "  'save_filename': '/home/awa/awa_data/12-07_6DReconstruction/reconstruction_scan/DYG14_1701987829.h5'},\n",
       " {'AWA:Bira3Ctrl:Ch10': 0.4,\n",
       "  'AWA:Bira4Ctrl:Ch01': 0.0,\n",
       "  'AWAVXI11ICT:Ch4': [6e-10,\n",
       "   5e-10,\n",
       "   5e-10,\n",
       "   5e-10,\n",
       "   5e-10,\n",
       "   5e-10,\n",
       "   6e-10,\n",
       "   6e-10,\n",
       "   5e-10,\n",
       "   6e-10],\n",
       "  'pi:QBCR1:Ch7:EnablePulse': 0,\n",
       "  'save_filename': '/home/awa/awa_data/12-07_6DReconstruction/reconstruction_scan/DYG14_1701987848.h5'},\n",
       " {'AWA:Bira3Ctrl:Ch10': 0.45,\n",
       "  'AWA:Bira4Ctrl:Ch01': 0.0,\n",
       "  'AWAVXI11ICT:Ch4': [6e-10,\n",
       "   6e-10,\n",
       "   6e-10,\n",
       "   5e-10,\n",
       "   5e-10,\n",
       "   6e-10,\n",
       "   5e-10,\n",
       "   5e-10,\n",
       "   5e-10,\n",
       "   6e-10],\n",
       "  'pi:QBCR1:Ch7:EnablePulse': 0,\n",
       "  'save_filename': '/home/awa/awa_data/12-07_6DReconstruction/reconstruction_scan/DYG14_1701987876.h5'},\n",
       " {'AWA:Bira3Ctrl:Ch10': 0.5,\n",
       "  'AWA:Bira4Ctrl:Ch01': 0.0,\n",
       "  'AWAVXI11ICT:Ch4': [5e-10,\n",
       "   6e-10,\n",
       "   5e-10,\n",
       "   6e-10,\n",
       "   6e-10,\n",
       "   6e-10,\n",
       "   5e-10,\n",
       "   5e-10,\n",
       "   6e-10,\n",
       "   5e-10],\n",
       "  'pi:QBCR1:Ch7:EnablePulse': 0,\n",
       "  'save_filename': '/home/awa/awa_data/12-07_6DReconstruction/reconstruction_scan/DYG14_1701987900.h5'}]"
      ]
     },
     "execution_count": 3,
     "metadata": {},
     "output_type": "execute_result"
    }
   ],
   "source": [
    "scan"
   ]
  },
  {
   "cell_type": "markdown",
   "metadata": {},
   "source": [
    "As you can see above, this particular YAML file is a list of dictionaries. Since it is a list, we can try access the first element of the scan"
   ]
  },
  {
   "cell_type": "code",
   "execution_count": 4,
   "metadata": {},
   "outputs": [
    {
     "data": {
      "text/plain": [
       "{'AWA:Bira3Ctrl:Ch10': -0.5,\n",
       " 'AWA:Bira4Ctrl:Ch01': 0.0,\n",
       " 'AWAVXI11ICT:Ch4': [6e-10,\n",
       "  5e-10,\n",
       "  5e-10,\n",
       "  5e-10,\n",
       "  5e-10,\n",
       "  6e-10,\n",
       "  5e-10,\n",
       "  6e-10,\n",
       "  5e-10,\n",
       "  5e-10],\n",
       " 'pi:QBCR1:Ch7:EnablePulse': 0,\n",
       " 'save_filename': '/home/awa/awa_data/12-07_6DReconstruction/reconstruction_scan/DYG14_1701987488.h5'}"
      ]
     },
     "execution_count": 4,
     "metadata": {},
     "output_type": "execute_result"
    }
   ],
   "source": [
    "scan[0]"
   ]
  },
  {
   "cell_type": "markdown",
   "metadata": {},
   "source": [
    "It is a dictionary. The important keys are the file name where it was saved `save_filename`, the quad strength `AWA:Bira3Ctrl:Ch10`, the dipole state `AWA:Bira4Ctrl:Ch01` and the transverse deflecting cavity state `pi:QBCR1:Ch7:EnablePulse`"
   ]
  },
  {
   "cell_type": "code",
   "execution_count": 5,
   "metadata": {},
   "outputs": [
    {
     "data": {
      "text/plain": [
       "'/home/awa/awa_data/12-07_6DReconstruction/reconstruction_scan/DYG14_1701987488.h5'"
      ]
     },
     "execution_count": 5,
     "metadata": {},
     "output_type": "execute_result"
    }
   ],
   "source": [
    "scan[0]['save_filename']"
   ]
  },
  {
   "cell_type": "code",
   "execution_count": 6,
   "metadata": {},
   "outputs": [
    {
     "data": {
      "text/plain": [
       "-0.5"
      ]
     },
     "execution_count": 6,
     "metadata": {},
     "output_type": "execute_result"
    }
   ],
   "source": [
    "k = scan[0]['AWA:Bira3Ctrl:Ch10']\n",
    "k"
   ]
  },
  {
   "cell_type": "code",
   "execution_count": 7,
   "metadata": {},
   "outputs": [
    {
     "data": {
      "text/plain": [
       "0.0"
      ]
     },
     "execution_count": 7,
     "metadata": {},
     "output_type": "execute_result"
    }
   ],
   "source": [
    "d = scan[0]['AWA:Bira4Ctrl:Ch01']\n",
    "d"
   ]
  },
  {
   "cell_type": "code",
   "execution_count": 8,
   "metadata": {},
   "outputs": [
    {
     "data": {
      "text/plain": [
       "0"
      ]
     },
     "execution_count": 8,
     "metadata": {},
     "output_type": "execute_result"
    }
   ],
   "source": [
    "tdc = scan[0]['pi:QBCR1:Ch7:EnablePulse']\n",
    "tdc"
   ]
  }
 ],
 "metadata": {
  "kernelspec": {
   "display_name": "sps",
   "language": "python",
   "name": "python3"
  },
  "language_info": {
   "codemirror_mode": {
    "name": "ipython",
    "version": 3
   },
   "file_extension": ".py",
   "mimetype": "text/x-python",
   "name": "python",
   "nbconvert_exporter": "python",
   "pygments_lexer": "ipython3",
   "version": "3.12.9"
  }
 },
 "nbformat": 4,
 "nbformat_minor": 2
}
